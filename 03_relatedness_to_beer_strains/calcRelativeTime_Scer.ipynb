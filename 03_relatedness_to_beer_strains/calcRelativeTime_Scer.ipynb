{
 "cells": [
  {
   "cell_type": "markdown",
   "metadata": {},
   "source": [
    "### Estimating divergence time between Jean-Talon and it's relatives in generations and years\n",
    "Method adopted from Skoglund et al. 2011 (following Green et al. 2006).\n",
    "Method uses triplets: Jean-Talon, relative & outgroup. Outgroup is S. cerevisiae, which is the reference genome.\n",
    "First estimation of divergence between Jean-Talon & an outgroup (using molecular clock), by calculating fixed differences between Jean-Talon and outgroup (synonymous sites fixed for 1 in Jean-Talon). Second calculating sites which are shared between Jean-Talon & outgroup but not the relative (genotypes 0,1,0) and shared between relative and an outgroup but not Jean-Talon (genotypes 1, 0, 0). Number of these sites over total number of sites carry information about the proportion of the branch length from the split of Jean-Talon with its relative, relative to the branch length from the split of Jean-Talon (or relative) with an outgroup.\n",
    "@author:aniafijarczyk"
   ]
  },
  {
   "cell_type": "code",
   "execution_count": 136,
   "metadata": {},
   "outputs": [],
   "source": [
    "import pandas as pd\n",
    "import glob\n",
    "import random\n",
    "import gzip\n",
    "import numpy as np\n",
    "from collections import defaultdict"
   ]
  },
  {
   "cell_type": "markdown",
   "metadata": {},
   "source": [
    "#### Setting global variables"
   ]
  },
  {
   "cell_type": "code",
   "execution_count": 137,
   "metadata": {},
   "outputs": [],
   "source": [
    "focal_species = \"Jean-Talon\"\n",
    "relatives = [\"A.Muntons\",\"A.S-33\",\"A.T-58\",\"BE005\",\"CFI\",\"CFN\",\"CFP\"]\n",
    "mutation_rate = 1.67E-10\n",
    "gen_year_min = 150 # lower estimate of generation number per year (from Gallone et al. 2016)\n",
    "gen_year_max = 2920 # higher estimate of generation number per year (from Fay & Benavides 2005)\n",
    "jean_talon_synonymous_sites = 1640852.73 # total length of synonymous sites in Jean-Talon (no missing data)"
   ]
  },
  {
   "cell_type": "markdown",
   "metadata": {},
   "source": [
    "#### Lengths of synonymous sites for pairs of genomes of different relatives with Jean-Talon"
   ]
  },
  {
   "cell_type": "code",
   "execution_count": 138,
   "metadata": {},
   "outputs": [
    {
     "data": {
      "text/html": [
       "<div>\n",
       "<style scoped>\n",
       "    .dataframe tbody tr th:only-of-type {\n",
       "        vertical-align: middle;\n",
       "    }\n",
       "\n",
       "    .dataframe tbody tr th {\n",
       "        vertical-align: top;\n",
       "    }\n",
       "\n",
       "    .dataframe thead th {\n",
       "        text-align: right;\n",
       "    }\n",
       "</style>\n",
       "<table border=\"1\" class=\"dataframe\">\n",
       "  <thead>\n",
       "    <tr style=\"text-align: right;\">\n",
       "      <th></th>\n",
       "      <th>strain</th>\n",
       "      <th>length</th>\n",
       "    </tr>\n",
       "  </thead>\n",
       "  <tbody>\n",
       "    <tr>\n",
       "      <th>0</th>\n",
       "      <td>A.Muntons</td>\n",
       "      <td>963216.1761</td>\n",
       "    </tr>\n",
       "    <tr>\n",
       "      <th>1</th>\n",
       "      <td>A.S-33</td>\n",
       "      <td>775193.8180</td>\n",
       "    </tr>\n",
       "    <tr>\n",
       "      <th>2</th>\n",
       "      <td>A.T-58</td>\n",
       "      <td>789363.5493</td>\n",
       "    </tr>\n",
       "    <tr>\n",
       "      <th>3</th>\n",
       "      <td>BE005</td>\n",
       "      <td>970227.5601</td>\n",
       "    </tr>\n",
       "    <tr>\n",
       "      <th>4</th>\n",
       "      <td>CFI</td>\n",
       "      <td>970243.8000</td>\n",
       "    </tr>\n",
       "  </tbody>\n",
       "</table>\n",
       "</div>"
      ],
      "text/plain": [
       "      strain       length\n",
       "0  A.Muntons  963216.1761\n",
       "1     A.S-33  775193.8180\n",
       "2     A.T-58  789363.5493\n",
       "3      BE005  970227.5601\n",
       "4        CFI  970243.8000"
      ]
     },
     "execution_count": 138,
     "metadata": {},
     "output_type": "execute_result"
    }
   ],
   "source": [
    "lengths = pd.read_csv(\"./input_files/synonymous_length.txt\",sep=\"\\t\",header=0,names=['strain','length'])\n",
    "lengths.head()"
   ]
  },
  {
   "cell_type": "markdown",
   "metadata": {},
   "source": [
    "#### Selecting strain indices for triplets (duplets here - S. cerevisiae is reference genome)"
   ]
  },
  {
   "cell_type": "code",
   "execution_count": 139,
   "metadata": {},
   "outputs": [
    {
     "data": {
      "text/plain": [
       "[[38, 39, 40, 41, 4, 5, 6, 7],\n",
       " [38, 39, 40, 41, 8, 9, 10, 11],\n",
       " [38, 39, 40, 41, 12, 13, 14, 15],\n",
       " [38, 39, 40, 41, 20, 21, 22, 23],\n",
       " [38, 39, 40, 41, 24, 25, 26, 27],\n",
       " [38, 39, 40, 41, 28, 29, 30, 31],\n",
       " [38, 39, 40, 41, 32, 33, 34, 35]]"
      ]
     },
     "execution_count": 139,
     "metadata": {},
     "output_type": "execute_result"
    }
   ],
   "source": [
    "samples = pd.read_csv(\"./input_files/relatives_annot_Filtered2_01.samples\", sep=\"\\t\", header=None, names=[\"haplotype\"])\n",
    "sample_names = list(samples[\"haplotype\"])\n",
    "T = []\n",
    "for strain in relatives:\n",
    "    test_samples = [\"Jean-Talon\",strain]\n",
    "    test_samples_p1 = [[0,1][ele.split(\"_\")[0] in test_samples[0]] for ele in sample_names]\n",
    "    samp_indices_p1 = [i for i in range(len(test_samples_p1)) if test_samples_p1[i] == 1]\n",
    "    test_samples_p2 = [[0,1][ele.split(\"_\")[0] in test_samples[1]] for ele in sample_names]\n",
    "    samp_indices_p2 = [i for i in range(len(test_samples_p2)) if test_samples_p2[i] == 1]\n",
    "    samp_indices = samp_indices_p1 + samp_indices_p2\n",
    "    T.append(samp_indices)\n",
    "T"
   ]
  },
  {
   "cell_type": "markdown",
   "metadata": {},
   "source": [
    "#### Reading file with synonymous variants"
   ]
  },
  {
   "cell_type": "code",
   "execution_count": 146,
   "metadata": {},
   "outputs": [
    {
     "name": "stdout",
     "output_type": "stream",
     "text": [
      "Number of all synonymous variants = 52812\n"
     ]
    }
   ],
   "source": [
    "fa = gzip.open(\"./input_files/relatives_annot_synonymous_snpEff.tab.gz\", \"rt\").readlines()\n",
    "#fa = gzip.open(\"./input_files/sample_annot_synonymous_snpEff.tab.gz\", \"rt\").readlines()\n",
    "ann = [ele.split() for ele in fa]\n",
    "D = {a+\"_\"+b:c for a,b,c in ann}\n",
    "print(\"Number of all synonymous variants = \"+str(len(list(D.keys()))))"
   ]
  },
  {
   "cell_type": "markdown",
   "metadata": {},
   "source": [
    "#### Reading file with all variant genotypes & filtering only synonymous"
   ]
  },
  {
   "cell_type": "code",
   "execution_count": 148,
   "metadata": {},
   "outputs": [
    {
     "name": "stdout",
     "output_type": "stream",
     "text": [
      "Number of filtered synonymous variants = 52812\n"
     ]
    }
   ],
   "source": [
    "fh = gzip.open(\"./input_files/relatives_annot_Filtered2_01.tab.gz\",\"rt\").readlines()\n",
    "#fh = gzip.open(\"./input_files/sample_annot_Filtered2_01.tab.gz\",\"rt\").readlines()\n",
    "d = {'_'.join(ele.split()[:2]):''.join(ele.split()[2:]) for ele in fh}\n",
    "k = {ele:d[ele] for ele in D.keys()}\n",
    "print(\"Number of filtered synonymous variants = \"+str(len(list(k.keys()))))"
   ]
  },
  {
   "cell_type": "markdown",
   "metadata": {},
   "source": [
    "#### Calculating fixed differences between Jean-Talon & reference (outgroup)"
   ]
  },
  {
   "cell_type": "code",
   "execution_count": 149,
   "metadata": {},
   "outputs": [
    {
     "name": "stdout",
     "output_type": "stream",
     "text": [
      "Number of fixed synonymous differences between Jean-Talon & reference is 7871\n",
      "Divergence rate between Jean-Talon & reference is 0.004796896062695401\n",
      "Number of generations since divergence of Jean-Talon with reference is 14361964.25956707\n"
     ]
    }
   ],
   "source": [
    "jt = [] # fixed variants relative to reference\n",
    "jt_tot = [] # all synonymous variants with no missing data\n",
    "for pos in k.keys():\n",
    "    newset = ''.join(k[pos][-4:])\n",
    "    if (newset.count('.') == 0):\n",
    "        jt_tot.append(newset)\n",
    "        if (newset.count('0') == 0):\n",
    "            jt.append(newset)\n",
    "k_rate = len(jt)/jean_talon_synonymous_sites\n",
    "t_out = k_rate/(2*mutation_rate)\n",
    "print(\"Number of fixed synonymous differences between Jean-Talon & reference is \"+str(len(jt)))\n",
    "print(\"Divergence rate between Jean-Talon & reference is \"+str(k_rate))\n",
    "print(\"Number of generations since divergence of Jean-Talon with reference is \"+str(t_out))"
   ]
  },
  {
   "cell_type": "markdown",
   "metadata": {},
   "source": [
    "#### Calculating time of split of Jean-Talon with relatives, relative to time of split with reference"
   ]
  },
  {
   "cell_type": "code",
   "execution_count": 150,
   "metadata": {},
   "outputs": [
    {
     "name": "stdout",
     "output_type": "stream",
     "text": [
      "A.Muntons\n",
      "A.S-33\n",
      "A.T-58\n",
      "BE005\n",
      "CFI\n",
      "CFN\n",
      "CFP\n"
     ]
    }
   ],
   "source": [
    "S = defaultdict(list)\n",
    "S2 = defaultdict(list)\n",
    "for duplex_index in range(len(T)):\n",
    "    \n",
    "    sec_strain = relatives[duplex_index]\n",
    "    print(sec_strain)\n",
    "    n = []\n",
    "    for pos in k.keys():\n",
    "        newset = ''.join([k[pos][i] for i in T[duplex_index]])\n",
    "        if newset.count('.') == 0:\n",
    "            n.append(newset)\n",
    "    #n[:3]\n",
    "    P = []\n",
    "    P2 = []\n",
    "    C2_aba = []\n",
    "    C2_baa = []\n",
    "    for site in n:\n",
    "        # taxon 1 and taxon 2 bases are given by randomly selecting one base from all alleles in a given position\n",
    "        #anc = random.sample(list(site[0:4]),1)\n",
    "        sp1 = random.sample(list(site[0:4]),1)[0]\n",
    "        sp2 = random.sample(list(site[4:8]),1)[0]\n",
    "        #if sp1.intersection(set(anc)): p1 = \"A\"\n",
    "        if sp1 == '1': p1 = \"B\"   \n",
    "        else: p1 = \"A\"\n",
    "        if sp2 == '1': p2 = \"B\"\n",
    "        else: p2 = \"A\"\n",
    "        pat = p1+p2+\"A\"\n",
    "        P.append(pat)\n",
    "        \n",
    "        # derived bases in taxon 1 and 2 are all bases with derived mutations of any frequency \n",
    "        sp1 = set(list(site[0:4]))\n",
    "        sp2 = set(list(site[4:8]))\n",
    "        if sp1.intersection(set('1')): p1 = \"B\"\n",
    "        else: p1 = \"A\"\n",
    "        if sp2.intersection(set('1')): p2 = \"B\"\n",
    "        else: p2 = \"A\"\n",
    "        pat2 = p1+p2+\"A\"\n",
    "        P2.append(pat2)\n",
    "        if pat2 == \"ABA\":\n",
    "            C2_aba.append(list(sp2).count(\"1\")/4.)\n",
    "        elif pat2 == \"BAA\":\n",
    "            C2_baa.append(list(sp1).count(\"1\")/4.)\n",
    "     \n",
    "    nnn = lengths.loc[lengths[\"strain\"]==sec_strain,'length'].values[0]\n",
    "    \n",
    "    aba = P.count(\"ABA\") \n",
    "    baa = P.count(\"BAA\")\n",
    "    Ss1 = aba/float(nnn)\n",
    "    Ss2 = baa/float(nnn)\n",
    "    S['strain'].append(sec_strain)\n",
    "    S['ABA'].append(aba)\n",
    "    S['BAA'].append(baa)\n",
    "    S['Ss_ABA'].append(Ss1)\n",
    "    S['Ss_BAA'].append(Ss2)\n",
    "    S['mean_Ss'].append(np.mean([Ss1, Ss2]))\n",
    "   \n",
    "    \n",
    "    aba2 = P2.count(\"ABA\")\n",
    "    baa2 = P2.count(\"BAA\")\n",
    "    Ss1 = aba2/float(nnn)\n",
    "    Ss2 = baa2/float(nnn)\n",
    "    S2['strain'].append(sec_strain)\n",
    "    S2['ABA'].append(aba2)\n",
    "    S2['BAA'].append(baa2)\n",
    "    S2['Ss1'].append(Ss1)\n",
    "    S2['Ss2'].append(Ss2)\n",
    "    S2['meanSs'].append(np.mean([Ss1, Ss2]))\n",
    "    # rate of aba and baa patterns is multiplied by frequency of corresponding derived mutations\n",
    "    Ss1_freq = sum(C2_aba)/float(nnn)\n",
    "    Ss2_freq = sum(C2_baa)/float(nnn)\n",
    "    S2['Ss1_freq'].append(Ss1_freq)\n",
    "    S2['Ss2_freq'].append(Ss2_freq)\n",
    "    S2['meanSs_freq'].append(np.mean([Ss1_freq, Ss2_freq]))\n",
    "    \n",
    "dS1 = pd.DataFrame(S)\n",
    "dS2 = pd.DataFrame(S2)"
   ]
  },
  {
   "cell_type": "markdown",
   "metadata": {},
   "source": [
    "#### Calculating divergence times"
   ]
  },
  {
   "cell_type": "code",
   "execution_count": 151,
   "metadata": {},
   "outputs": [
    {
     "data": {
      "text/html": [
       "<div>\n",
       "<style scoped>\n",
       "    .dataframe tbody tr th:only-of-type {\n",
       "        vertical-align: middle;\n",
       "    }\n",
       "\n",
       "    .dataframe tbody tr th {\n",
       "        vertical-align: top;\n",
       "    }\n",
       "\n",
       "    .dataframe thead th {\n",
       "        text-align: right;\n",
       "    }\n",
       "</style>\n",
       "<table border=\"1\" class=\"dataframe\">\n",
       "  <thead>\n",
       "    <tr style=\"text-align: right;\">\n",
       "      <th></th>\n",
       "      <th>strain</th>\n",
       "      <th>ABA</th>\n",
       "      <th>BAA</th>\n",
       "      <th>Ss_ABA</th>\n",
       "      <th>Ss_BAA</th>\n",
       "      <th>mean_Ss</th>\n",
       "      <th>t_aba_150</th>\n",
       "      <th>t_baa_150</th>\n",
       "      <th>t_150</th>\n",
       "      <th>t_aba_2920</th>\n",
       "      <th>t_baa_2920</th>\n",
       "      <th>t_2920</th>\n",
       "      <th>t_out</th>\n",
       "      <th>mut_rate</th>\n",
       "      <th>length</th>\n",
       "    </tr>\n",
       "  </thead>\n",
       "  <tbody>\n",
       "    <tr>\n",
       "      <th>0</th>\n",
       "      <td>A.Muntons</td>\n",
       "      <td>1544</td>\n",
       "      <td>2949</td>\n",
       "      <td>0.001603</td>\n",
       "      <td>0.003062</td>\n",
       "      <td>0.002332</td>\n",
       "      <td>153.477993</td>\n",
       "      <td>293.138990</td>\n",
       "      <td>223.308492</td>\n",
       "      <td>7.884143</td>\n",
       "      <td>15.058510</td>\n",
       "      <td>11.471327</td>\n",
       "      <td>1.436196e+07</td>\n",
       "      <td>1.670000e-10</td>\n",
       "      <td>963216.1761</td>\n",
       "    </tr>\n",
       "    <tr>\n",
       "      <th>1</th>\n",
       "      <td>A.S-33</td>\n",
       "      <td>796</td>\n",
       "      <td>1740</td>\n",
       "      <td>0.001027</td>\n",
       "      <td>0.002245</td>\n",
       "      <td>0.001636</td>\n",
       "      <td>98.316260</td>\n",
       "      <td>214.912428</td>\n",
       "      <td>156.614344</td>\n",
       "      <td>5.050493</td>\n",
       "      <td>11.040022</td>\n",
       "      <td>8.045257</td>\n",
       "      <td>1.436196e+07</td>\n",
       "      <td>1.670000e-10</td>\n",
       "      <td>775193.8180</td>\n",
       "    </tr>\n",
       "    <tr>\n",
       "      <th>2</th>\n",
       "      <td>BE005</td>\n",
       "      <td>4330</td>\n",
       "      <td>5631</td>\n",
       "      <td>0.004463</td>\n",
       "      <td>0.005804</td>\n",
       "      <td>0.005133</td>\n",
       "      <td>427.303915</td>\n",
       "      <td>555.692459</td>\n",
       "      <td>491.498187</td>\n",
       "      <td>21.950544</td>\n",
       "      <td>28.545845</td>\n",
       "      <td>25.248195</td>\n",
       "      <td>1.436196e+07</td>\n",
       "      <td>1.670000e-10</td>\n",
       "      <td>970227.5601</td>\n",
       "    </tr>\n",
       "    <tr>\n",
       "      <th>3</th>\n",
       "      <td>CFI</td>\n",
       "      <td>4514</td>\n",
       "      <td>5683</td>\n",
       "      <td>0.004652</td>\n",
       "      <td>0.005857</td>\n",
       "      <td>0.005255</td>\n",
       "      <td>445.454408</td>\n",
       "      <td>560.814666</td>\n",
       "      <td>503.134537</td>\n",
       "      <td>22.882932</td>\n",
       "      <td>28.808973</td>\n",
       "      <td>25.845952</td>\n",
       "      <td>1.436196e+07</td>\n",
       "      <td>1.670000e-10</td>\n",
       "      <td>970243.8000</td>\n",
       "    </tr>\n",
       "    <tr>\n",
       "      <th>4</th>\n",
       "      <td>CFN</td>\n",
       "      <td>4419</td>\n",
       "      <td>5663</td>\n",
       "      <td>0.004555</td>\n",
       "      <td>0.005837</td>\n",
       "      <td>0.005196</td>\n",
       "      <td>436.080111</td>\n",
       "      <td>558.841745</td>\n",
       "      <td>497.460928</td>\n",
       "      <td>22.401376</td>\n",
       "      <td>28.707624</td>\n",
       "      <td>25.554500</td>\n",
       "      <td>1.436196e+07</td>\n",
       "      <td>1.670000e-10</td>\n",
       "      <td>970242.5225</td>\n",
       "    </tr>\n",
       "  </tbody>\n",
       "</table>\n",
       "</div>"
      ],
      "text/plain": [
       "      strain   ABA   BAA    Ss_ABA    Ss_BAA   mean_Ss   t_aba_150  \\\n",
       "0  A.Muntons  1544  2949  0.001603  0.003062  0.002332  153.477993   \n",
       "1     A.S-33   796  1740  0.001027  0.002245  0.001636   98.316260   \n",
       "2      BE005  4330  5631  0.004463  0.005804  0.005133  427.303915   \n",
       "3        CFI  4514  5683  0.004652  0.005857  0.005255  445.454408   \n",
       "4        CFN  4419  5663  0.004555  0.005837  0.005196  436.080111   \n",
       "\n",
       "    t_baa_150       t_150  t_aba_2920  t_baa_2920     t_2920         t_out  \\\n",
       "0  293.138990  223.308492    7.884143   15.058510  11.471327  1.436196e+07   \n",
       "1  214.912428  156.614344    5.050493   11.040022   8.045257  1.436196e+07   \n",
       "2  555.692459  491.498187   21.950544   28.545845  25.248195  1.436196e+07   \n",
       "3  560.814666  503.134537   22.882932   28.808973  25.845952  1.436196e+07   \n",
       "4  558.841745  497.460928   22.401376   28.707624  25.554500  1.436196e+07   \n",
       "\n",
       "       mut_rate       length  \n",
       "0  1.670000e-10  963216.1761  \n",
       "1  1.670000e-10  775193.8180  \n",
       "2  1.670000e-10  970227.5601  \n",
       "3  1.670000e-10  970243.8000  \n",
       "4  1.670000e-10  970242.5225  "
      ]
     },
     "execution_count": 151,
     "metadata": {},
     "output_type": "execute_result"
    }
   ],
   "source": [
    "dS1['t_aba_150'] = (dS1['Ss_ABA']*t_out)/150\n",
    "dS1['t_baa_150'] = (dS1['Ss_BAA']*t_out)/150\n",
    "dS1['t_150'] = (dS1['mean_Ss']*t_out)/150\n",
    "dS1['t_aba_2920'] = (dS1['Ss_ABA']*t_out)/2920\n",
    "dS1['t_baa_2920'] = (dS1['Ss_BAA']*t_out)/2920\n",
    "dS1['t_2920'] = (dS1['mean_Ss']*t_out)/2920\n",
    "dS1['t_out'] = t_out\n",
    "dS1['mut_rate'] = mutation_rate\n",
    "dF = dS1.loc[dS1['strain'].isin([\"A.Muntons\",\"A.S-33\",\"BE005\",\"CFI\",\"CFN\"]),:]\n",
    "dM = pd.merge(dF,lengths,on=['strain'],how='left')\n",
    "dM"
   ]
  },
  {
   "cell_type": "markdown",
   "metadata": {},
   "source": [
    "#### Saving table"
   ]
  },
  {
   "cell_type": "code",
   "execution_count": 152,
   "metadata": {},
   "outputs": [],
   "source": [
    "dM.to_csv(\"calcRelativeTime_Scer.out\",sep=\"\\t\",index=False,header=True)\n",
    "#dM.to_csv(\"calcRelativeTime_Scer_sample.out\",sep=\"\\t\",index=False,header=True)"
   ]
  },
  {
   "cell_type": "code",
   "execution_count": null,
   "metadata": {},
   "outputs": [],
   "source": []
  }
 ],
 "metadata": {
  "kernelspec": {
   "display_name": "base",
   "language": "python",
   "name": "base"
  },
  "language_info": {
   "codemirror_mode": {
    "name": "ipython",
    "version": 3
   },
   "file_extension": ".py",
   "mimetype": "text/x-python",
   "name": "python",
   "nbconvert_exporter": "python",
   "pygments_lexer": "ipython3",
   "version": "3.6.8"
  }
 },
 "nbformat": 4,
 "nbformat_minor": 2
}
