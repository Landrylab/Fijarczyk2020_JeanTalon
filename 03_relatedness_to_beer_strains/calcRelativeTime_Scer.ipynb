{
 "cells": [
  {
   "cell_type": "markdown",
   "metadata": {},
   "source": [
    "### Estimating divergence time between Jean-Talon and it's relatives in generations and years\n",
    "Method adopted from Skoglund et al. 2011 (following Green et al. 2006).\n",
    "Method uses triplets: Jean-Talon, relative & outgroup. Outgroup is S. cerevisiae, which is the reference genome.\n",
    "First estimation of divergence between Jean-Talon & an outgroup (using molecular clock), by calculating fixed differences between Jean-Talon and outgroup (synonymous sites fixed for 1 in Jean-Talon). Second calculating sites which are shared between Jean-Talon & outgroup but not the relative (genotypes 0,1,0) and shared between relative and an outgroup but not Jean-Talon (genotypes 1, 0, 0). Number of these sites over total number of sites carry information about the proportion of the branch length from the split of Jean-Talon with its relative, relative to the branch length from the split of Jean-Talon (or relative) with an outgroup.\n",
    "@author:aniafijarczyk"
   ]
  },
  {
   "cell_type": "code",
   "execution_count": 1,
   "metadata": {},
   "outputs": [],
   "source": [
    "import pandas as pd\n",
    "import glob\n",
    "import random\n",
    "import gzip\n",
    "import numpy as np\n",
    "from collections import defaultdict"
   ]
  },
  {
   "cell_type": "markdown",
   "metadata": {},
   "source": [
    "#### Setting global variables"
   ]
  },
  {
   "cell_type": "code",
   "execution_count": 2,
   "metadata": {},
   "outputs": [],
   "source": [
    "focal_species = \"Jean-Talon\"\n",
    "relatives = [\"A.Muntons\",\"A.S-33\",\"A.T-58\",\"BE005\",\"CFI\",\"CFN\",\"CFP\"]\n",
    "mutation_rate = 1.67E-10\n",
    "gen_year_min = 150 # lower estimate of generation number per year (from Gallone et al. 2016)\n",
    "gen_year_max = 2920 # higher estimate of generation number per year (from Fay & Benavides 2005)\n",
    "jean_talon_synonymous_sites = 1601812.63 # total length of synonymous sites in Jean-Talon (no missing data)"
   ]
  },
  {
   "cell_type": "markdown",
   "metadata": {},
   "source": [
    "#### Lengths of synonymous sites for pairs of genomes of different relatives with Jean-Talon excluding positions with any missing data"
   ]
  },
  {
   "cell_type": "code",
   "execution_count": 3,
   "metadata": {},
   "outputs": [
    {
     "data": {
      "text/html": [
       "<div>\n",
       "<style scoped>\n",
       "    .dataframe tbody tr th:only-of-type {\n",
       "        vertical-align: middle;\n",
       "    }\n",
       "\n",
       "    .dataframe tbody tr th {\n",
       "        vertical-align: top;\n",
       "    }\n",
       "\n",
       "    .dataframe thead th {\n",
       "        text-align: right;\n",
       "    }\n",
       "</style>\n",
       "<table border=\"1\" class=\"dataframe\">\n",
       "  <thead>\n",
       "    <tr style=\"text-align: right;\">\n",
       "      <th></th>\n",
       "      <th>strain</th>\n",
       "      <th>length</th>\n",
       "    </tr>\n",
       "  </thead>\n",
       "  <tbody>\n",
       "    <tr>\n",
       "      <th>0</th>\n",
       "      <td>A.2565</td>\n",
       "      <td>825134.19</td>\n",
       "    </tr>\n",
       "    <tr>\n",
       "      <th>1</th>\n",
       "      <td>A.Muntons</td>\n",
       "      <td>1393964.50</td>\n",
       "    </tr>\n",
       "    <tr>\n",
       "      <th>2</th>\n",
       "      <td>A.S-33</td>\n",
       "      <td>921367.81</td>\n",
       "    </tr>\n",
       "    <tr>\n",
       "      <th>3</th>\n",
       "      <td>A.T-58</td>\n",
       "      <td>981293.20</td>\n",
       "    </tr>\n",
       "    <tr>\n",
       "      <th>4</th>\n",
       "      <td>BE005</td>\n",
       "      <td>1600532.52</td>\n",
       "    </tr>\n",
       "  </tbody>\n",
       "</table>\n",
       "</div>"
      ],
      "text/plain": [
       "      strain      length\n",
       "0     A.2565   825134.19\n",
       "1  A.Muntons  1393964.50\n",
       "2     A.S-33   921367.81\n",
       "3     A.T-58   981293.20\n",
       "4      BE005  1600532.52"
      ]
     },
     "execution_count": 3,
     "metadata": {},
     "output_type": "execute_result"
    }
   ],
   "source": [
    "#lengths = pd.read_csv(\"./input_files/synonymous_length.txt\",sep=\"\\t\",header=0,names=['strain','length'])\n",
    "lengths = pd.DataFrame({\"strain\":[\"A.2565\",\"A.Muntons\",\"A.S-33\",\"A.T-58\",\"BE005\",\"CFI\",\"CFN\",\"CFP\",\"CHK\",\"Jean-Talon\"],\n",
    "                        \"length\":[825134.19,1393964.5,921367.81,981293.2,1600532.52,1601356.33,1601365.39,1600888.52,1601484.86,1601812.63]})\n",
    "lengths.head()"
   ]
  },
  {
   "cell_type": "markdown",
   "metadata": {},
   "source": [
    "#### Selecting strain indices for triplets (duplets here - S. cerevisiae is reference genome)"
   ]
  },
  {
   "cell_type": "code",
   "execution_count": 4,
   "metadata": {},
   "outputs": [
    {
     "data": {
      "text/plain": [
       "[[38, 39, 40, 41, 4, 5, 6, 7],\n",
       " [38, 39, 40, 41, 8, 9, 10, 11],\n",
       " [38, 39, 40, 41, 12, 13, 14, 15],\n",
       " [38, 39, 40, 41, 20, 21, 22, 23],\n",
       " [38, 39, 40, 41, 24, 25, 26, 27],\n",
       " [38, 39, 40, 41, 28, 29, 30, 31],\n",
       " [38, 39, 40, 41, 32, 33, 34, 35]]"
      ]
     },
     "execution_count": 4,
     "metadata": {},
     "output_type": "execute_result"
    }
   ],
   "source": [
    "# File with list of sample names from relatives_annot_Filtered2.vcf file\n",
    "samples = pd.read_csv(\"./input_files/relatives_annot_Filtered2.samples\", sep=\"\\t\", header=None, names=[\"haplotype\"])\n",
    "sample_names = list(samples[\"haplotype\"])\n",
    "T = []\n",
    "for strain in relatives:\n",
    "    test_samples = [\"Jean-Talon\",strain]\n",
    "    test_samples_p1 = [[0,1][ele.split(\"_\")[0] in test_samples[0]] for ele in sample_names]\n",
    "    samp_indices_p1 = [i for i in range(len(test_samples_p1)) if test_samples_p1[i] == 1]\n",
    "    test_samples_p2 = [[0,1][ele.split(\"_\")[0] in test_samples[1]] for ele in sample_names]\n",
    "    samp_indices_p2 = [i for i in range(len(test_samples_p2)) if test_samples_p2[i] == 1]\n",
    "    samp_indices = samp_indices_p1 + samp_indices_p2\n",
    "    T.append(samp_indices)\n",
    "T"
   ]
  },
  {
   "cell_type": "markdown",
   "metadata": {},
   "source": [
    "#### Getting synonymous variants\n",
    "##### Annotating vcf file (File S5 after changing chromosome names to chr<> format)\n",
    "```console\n",
    "java -jar snpEff.jar R64-2-1 relatives_annot_Filtered2_R64.2.1.vcf.gz > relatives_annot_Filtered2_R64.2.1_snpEff.vcf\n",
    "```\n",
    "##### Getting variants for selected genes (./output/manipulateFasta_nonoverlappingCDS.bed) in table\n",
    "```console\n",
    "bcftools query -f '%CHROM\\t%POS\\t%INFO/ANN\\n' -R ./output/manipulateFasta_nonoverlappingCDS.bed \\\n",
    "relatives_annot_Filtered2_R64.2.1.vcf.gz | grep 'synonymous_variant' > \\\n",
    "relatives_annot_synonymous_snpEff.tab\n",
    "```"
   ]
  },
  {
   "cell_type": "markdown",
   "metadata": {},
   "source": [
    "#### Reading file with synonymous variants"
   ]
  },
  {
   "cell_type": "code",
   "execution_count": 5,
   "metadata": {},
   "outputs": [
    {
     "name": "stdout",
     "output_type": "stream",
     "text": [
      "Number of all synonymous variants = 51608\n"
     ]
    }
   ],
   "source": [
    "fa = gzip.open(\"./input_files/relatives_annot_synonymous_snpEff.tab.gz\", \"rt\").readlines()\n",
    "#fa = gzip.open(\"./input_files/sample_annot_synonymous_snpEff.tab.gz\", \"rt\").readlines()\n",
    "ann = [ele.split() for ele in fa]\n",
    "D = {a+\"_\"+b:c for a,b,c in ann}\n",
    "print(\"Number of all synonymous variants = \"+str(len(list(D.keys()))))"
   ]
  },
  {
   "cell_type": "markdown",
   "metadata": {},
   "source": [
    "#### Generating table with genotypes encoded as 0 and 1 from vcf file for selected genes (./output/manipulateFasta_nonoverlappingCDS.bed)\n",
    "```console\n",
    "bcftools query -f '%CHROM\\t%POS[\\t%GT]\\n' -R ./output/manipulateFasta_nonoverlappingCDS.bed \\\n",
    "relatives_annot_Filtered2_R64.2.1.vcf.gz | sed 's/\\//\\|/g' \\\n",
    "| awk  -F\"\\t\" -v OFS=\"\\t\" 'function GSUB(F) {gsub(/[|]/,\"\\t\",$F)} \\ \n",
    "{GSUB(3);GSUB(4);GSUB(5);GSUB(6);GSUB(7);GSUB(8);GSUB(9);GSUB(10);GSUB(11);GSUB(12);GSUB(13)}1' \\\n",
    "| awk '{if (length($3)==1) print $0}' > relatives_annot_Filtered2_01.tab\n",
    "```"
   ]
  },
  {
   "cell_type": "markdown",
   "metadata": {},
   "source": [
    "#### Reading file with all variant genotypes & filtering only synonymous"
   ]
  },
  {
   "cell_type": "code",
   "execution_count": 6,
   "metadata": {},
   "outputs": [
    {
     "name": "stdout",
     "output_type": "stream",
     "text": [
      "Number of filtered synonymous variants = 51608\n"
     ]
    }
   ],
   "source": [
    "fh = gzip.open(\"./input_files/relatives_annot_Filtered2_01.tab.gz\",\"rt\").readlines()\n",
    "#fh = gzip.open(\"./input_files/sample_annot_Filtered2_01.tab.gz\",\"rt\").readlines()\n",
    "d = {'_'.join(ele.split()[:2]):''.join(ele.split()[2:]) for ele in fh}\n",
    "k = {ele:d[ele] for ele in D.keys()}\n",
    "print(\"Number of filtered synonymous variants = \"+str(len(list(k.keys()))))"
   ]
  },
  {
   "cell_type": "markdown",
   "metadata": {},
   "source": [
    "#### Calculating fixed differences between Jean-Talon & reference (outgroup)"
   ]
  },
  {
   "cell_type": "code",
   "execution_count": 7,
   "metadata": {},
   "outputs": [
    {
     "name": "stdout",
     "output_type": "stream",
     "text": [
      "Number of fixed synonymous differences between Jean-Talon & reference is 7697\n",
      "Divergence rate between Jean-Talon & reference is 0.004805181240205354\n",
      "Number of generations since divergence of Jean-Talon with reference is 14386770.180255553\n"
     ]
    }
   ],
   "source": [
    "jt = [] # fixed variants relative to reference\n",
    "jt_tot = [] # all synonymous variants with no missing data\n",
    "for pos in k.keys():\n",
    "    newset = ''.join(k[pos][-4:])\n",
    "    if (newset.count('.') == 0):\n",
    "        jt_tot.append(newset)\n",
    "        if (newset.count('0') == 0):\n",
    "            jt.append(newset)\n",
    "k_rate = len(jt)/jean_talon_synonymous_sites\n",
    "t_out = k_rate/(2*mutation_rate)\n",
    "print(\"Number of fixed synonymous differences between Jean-Talon & reference is \"+str(len(jt)))\n",
    "print(\"Divergence rate between Jean-Talon & reference is \"+str(k_rate))\n",
    "print(\"Number of generations since divergence of Jean-Talon with reference is \"+str(t_out))"
   ]
  },
  {
   "cell_type": "markdown",
   "metadata": {},
   "source": [
    "#### Calculating time of split of Jean-Talon with relatives, relative to time of split with reference"
   ]
  },
  {
   "cell_type": "code",
   "execution_count": 8,
   "metadata": {},
   "outputs": [
    {
     "name": "stdout",
     "output_type": "stream",
     "text": [
      "A.Muntons\n",
      "A.S-33\n",
      "A.T-58\n",
      "BE005\n",
      "CFI\n",
      "CFN\n",
      "CFP\n"
     ]
    }
   ],
   "source": [
    "S = defaultdict(list)\n",
    "S2 = defaultdict(list)\n",
    "for duplex_index in range(len(T)):\n",
    "    \n",
    "    sec_strain = relatives[duplex_index]\n",
    "    print(sec_strain)\n",
    "    n = []\n",
    "    for pos in k.keys():\n",
    "        newset = ''.join([k[pos][i] for i in T[duplex_index]])\n",
    "        if newset.count('.') == 0:\n",
    "            n.append(newset)\n",
    "    #n[:3]\n",
    "    P = []\n",
    "    P2 = []\n",
    "    C2_aba = []\n",
    "    C2_baa = []\n",
    "    for site in n:\n",
    "        # taxon 1 and taxon 2 bases are given by randomly selecting one base from all alleles in a given position\n",
    "        #anc = random.sample(list(site[0:4]),1)\n",
    "        sp1 = random.sample(list(site[0:4]),1)[0]\n",
    "        sp2 = random.sample(list(site[4:8]),1)[0]\n",
    "        #if sp1.intersection(set(anc)): p1 = \"A\"\n",
    "        if sp1 == '1': p1 = \"B\"   \n",
    "        else: p1 = \"A\"\n",
    "        if sp2 == '1': p2 = \"B\"\n",
    "        else: p2 = \"A\"\n",
    "        pat = p1+p2+\"A\"\n",
    "        P.append(pat)\n",
    "        \n",
    "        # derived bases in taxon 1 and 2 are all bases with derived mutations of any frequency \n",
    "        sp1 = set(list(site[0:4]))\n",
    "        sp2 = set(list(site[4:8]))\n",
    "        if sp1.intersection(set('1')): p1 = \"B\"\n",
    "        else: p1 = \"A\"\n",
    "        if sp2.intersection(set('1')): p2 = \"B\"\n",
    "        else: p2 = \"A\"\n",
    "        pat2 = p1+p2+\"A\"\n",
    "        P2.append(pat2)\n",
    "        if pat2 == \"ABA\":\n",
    "            C2_aba.append(list(sp2).count(\"1\")/4.)\n",
    "        elif pat2 == \"BAA\":\n",
    "            C2_baa.append(list(sp1).count(\"1\")/4.)\n",
    "     \n",
    "    nnn = lengths.loc[lengths[\"strain\"]==sec_strain,'length'].values[0]\n",
    "    \n",
    "    aba = P.count(\"ABA\") \n",
    "    baa = P.count(\"BAA\")\n",
    "    Ss1 = aba/float(nnn)\n",
    "    Ss2 = baa/float(nnn)\n",
    "    S['strain'].append(sec_strain)\n",
    "    S['ABA'].append(aba)\n",
    "    S['BAA'].append(baa)\n",
    "    S['Ss_ABA'].append(Ss1)\n",
    "    S['Ss_BAA'].append(Ss2)\n",
    "    S['mean_Ss'].append(np.mean([Ss1, Ss2]))\n",
    "   \n",
    "    \n",
    "    aba2 = P2.count(\"ABA\")\n",
    "    baa2 = P2.count(\"BAA\")\n",
    "    Ss1 = aba2/float(nnn)\n",
    "    Ss2 = baa2/float(nnn)\n",
    "    S2['strain'].append(sec_strain)\n",
    "    S2['ABA'].append(aba2)\n",
    "    S2['BAA'].append(baa2)\n",
    "    S2['Ss1'].append(Ss1)\n",
    "    S2['Ss2'].append(Ss2)\n",
    "    S2['meanSs'].append(np.mean([Ss1, Ss2]))\n",
    "    # rate of aba and baa patterns is multiplied by frequency of corresponding derived mutations\n",
    "    Ss1_freq = sum(C2_aba)/float(nnn)\n",
    "    Ss2_freq = sum(C2_baa)/float(nnn)\n",
    "    S2['Ss1_freq'].append(Ss1_freq)\n",
    "    S2['Ss2_freq'].append(Ss2_freq)\n",
    "    S2['meanSs_freq'].append(np.mean([Ss1_freq, Ss2_freq]))\n",
    "    \n",
    "dS1 = pd.DataFrame(S)\n",
    "dS2 = pd.DataFrame(S2)"
   ]
  },
  {
   "cell_type": "markdown",
   "metadata": {},
   "source": [
    "#### Calculating divergence times"
   ]
  },
  {
   "cell_type": "code",
   "execution_count": 9,
   "metadata": {},
   "outputs": [
    {
     "data": {
      "text/html": [
       "<div>\n",
       "<style scoped>\n",
       "    .dataframe tbody tr th:only-of-type {\n",
       "        vertical-align: middle;\n",
       "    }\n",
       "\n",
       "    .dataframe tbody tr th {\n",
       "        vertical-align: top;\n",
       "    }\n",
       "\n",
       "    .dataframe thead th {\n",
       "        text-align: right;\n",
       "    }\n",
       "</style>\n",
       "<table border=\"1\" class=\"dataframe\">\n",
       "  <thead>\n",
       "    <tr style=\"text-align: right;\">\n",
       "      <th></th>\n",
       "      <th>strain</th>\n",
       "      <th>ABA</th>\n",
       "      <th>BAA</th>\n",
       "      <th>Ss_ABA</th>\n",
       "      <th>Ss_BAA</th>\n",
       "      <th>mean_Ss</th>\n",
       "      <th>t_aba_150</th>\n",
       "      <th>t_baa_150</th>\n",
       "      <th>t_150</th>\n",
       "      <th>t_aba_2920</th>\n",
       "      <th>t_baa_2920</th>\n",
       "      <th>t_2920</th>\n",
       "      <th>t_out</th>\n",
       "      <th>mut_rate</th>\n",
       "      <th>length</th>\n",
       "    </tr>\n",
       "  </thead>\n",
       "  <tbody>\n",
       "    <tr>\n",
       "      <th>0</th>\n",
       "      <td>A.Muntons</td>\n",
       "      <td>1478</td>\n",
       "      <td>2926</td>\n",
       "      <td>0.001060</td>\n",
       "      <td>0.002099</td>\n",
       "      <td>0.001580</td>\n",
       "      <td>101.693868</td>\n",
       "      <td>201.323585</td>\n",
       "      <td>151.508727</td>\n",
       "      <td>5.224000</td>\n",
       "      <td>10.341965</td>\n",
       "      <td>7.782983</td>\n",
       "      <td>1.438677e+07</td>\n",
       "      <td>1.670000e-10</td>\n",
       "      <td>1393964.50</td>\n",
       "    </tr>\n",
       "    <tr>\n",
       "      <th>1</th>\n",
       "      <td>A.S-33</td>\n",
       "      <td>772</td>\n",
       "      <td>1721</td>\n",
       "      <td>0.000838</td>\n",
       "      <td>0.001868</td>\n",
       "      <td>0.001353</td>\n",
       "      <td>80.363032</td>\n",
       "      <td>179.151266</td>\n",
       "      <td>129.757149</td>\n",
       "      <td>4.128238</td>\n",
       "      <td>9.202976</td>\n",
       "      <td>6.665607</td>\n",
       "      <td>1.438677e+07</td>\n",
       "      <td>1.670000e-10</td>\n",
       "      <td>921367.81</td>\n",
       "    </tr>\n",
       "    <tr>\n",
       "      <th>2</th>\n",
       "      <td>BE005</td>\n",
       "      <td>4259</td>\n",
       "      <td>5575</td>\n",
       "      <td>0.002661</td>\n",
       "      <td>0.003483</td>\n",
       "      <td>0.003072</td>\n",
       "      <td>255.220282</td>\n",
       "      <td>334.081492</td>\n",
       "      <td>294.650887</td>\n",
       "      <td>13.110631</td>\n",
       "      <td>17.161720</td>\n",
       "      <td>15.136176</td>\n",
       "      <td>1.438677e+07</td>\n",
       "      <td>1.670000e-10</td>\n",
       "      <td>1600532.52</td>\n",
       "    </tr>\n",
       "    <tr>\n",
       "      <th>3</th>\n",
       "      <td>CFI</td>\n",
       "      <td>4199</td>\n",
       "      <td>5768</td>\n",
       "      <td>0.002622</td>\n",
       "      <td>0.003602</td>\n",
       "      <td>0.003112</td>\n",
       "      <td>251.495339</td>\n",
       "      <td>345.469187</td>\n",
       "      <td>298.482263</td>\n",
       "      <td>12.919281</td>\n",
       "      <td>17.746705</td>\n",
       "      <td>15.332993</td>\n",
       "      <td>1.438677e+07</td>\n",
       "      <td>1.670000e-10</td>\n",
       "      <td>1601356.33</td>\n",
       "    </tr>\n",
       "    <tr>\n",
       "      <th>4</th>\n",
       "      <td>CFN</td>\n",
       "      <td>4379</td>\n",
       "      <td>5682</td>\n",
       "      <td>0.002735</td>\n",
       "      <td>0.003548</td>\n",
       "      <td>0.003141</td>\n",
       "      <td>262.274794</td>\n",
       "      <td>340.316369</td>\n",
       "      <td>301.295581</td>\n",
       "      <td>13.473020</td>\n",
       "      <td>17.482005</td>\n",
       "      <td>15.477513</td>\n",
       "      <td>1.438677e+07</td>\n",
       "      <td>1.670000e-10</td>\n",
       "      <td>1601365.39</td>\n",
       "    </tr>\n",
       "  </tbody>\n",
       "</table>\n",
       "</div>"
      ],
      "text/plain": [
       "      strain   ABA   BAA    Ss_ABA    Ss_BAA   mean_Ss   t_aba_150  \\\n",
       "0  A.Muntons  1478  2926  0.001060  0.002099  0.001580  101.693868   \n",
       "1     A.S-33   772  1721  0.000838  0.001868  0.001353   80.363032   \n",
       "2      BE005  4259  5575  0.002661  0.003483  0.003072  255.220282   \n",
       "3        CFI  4199  5768  0.002622  0.003602  0.003112  251.495339   \n",
       "4        CFN  4379  5682  0.002735  0.003548  0.003141  262.274794   \n",
       "\n",
       "    t_baa_150       t_150  t_aba_2920  t_baa_2920     t_2920         t_out  \\\n",
       "0  201.323585  151.508727    5.224000   10.341965   7.782983  1.438677e+07   \n",
       "1  179.151266  129.757149    4.128238    9.202976   6.665607  1.438677e+07   \n",
       "2  334.081492  294.650887   13.110631   17.161720  15.136176  1.438677e+07   \n",
       "3  345.469187  298.482263   12.919281   17.746705  15.332993  1.438677e+07   \n",
       "4  340.316369  301.295581   13.473020   17.482005  15.477513  1.438677e+07   \n",
       "\n",
       "       mut_rate      length  \n",
       "0  1.670000e-10  1393964.50  \n",
       "1  1.670000e-10   921367.81  \n",
       "2  1.670000e-10  1600532.52  \n",
       "3  1.670000e-10  1601356.33  \n",
       "4  1.670000e-10  1601365.39  "
      ]
     },
     "execution_count": 9,
     "metadata": {},
     "output_type": "execute_result"
    }
   ],
   "source": [
    "dS1['t_aba_150'] = (dS1['Ss_ABA']*t_out)/150\n",
    "dS1['t_baa_150'] = (dS1['Ss_BAA']*t_out)/150\n",
    "dS1['t_150'] = (dS1['mean_Ss']*t_out)/150\n",
    "dS1['t_aba_2920'] = (dS1['Ss_ABA']*t_out)/2920\n",
    "dS1['t_baa_2920'] = (dS1['Ss_BAA']*t_out)/2920\n",
    "dS1['t_2920'] = (dS1['mean_Ss']*t_out)/2920\n",
    "dS1['t_out'] = t_out\n",
    "dS1['mut_rate'] = mutation_rate\n",
    "dF = dS1.loc[dS1['strain'].isin([\"A.Muntons\",\"A.S-33\",\"BE005\",\"CFI\",\"CFN\"]),:]\n",
    "dM = pd.merge(dF,lengths,on=['strain'],how='left')\n",
    "dM"
   ]
  },
  {
   "cell_type": "markdown",
   "metadata": {},
   "source": [
    "#### Saving table"
   ]
  },
  {
   "cell_type": "code",
   "execution_count": 10,
   "metadata": {},
   "outputs": [],
   "source": [
    "dM.to_csv(\"./output/calcRelativeTime_Scer.out\",sep=\"\\t\",index=False,header=True)\n",
    "#dM.to_csv(\"calcRelativeTime_Scer_sample.out\",sep=\"\\t\",index=False,header=True)"
   ]
  },
  {
   "cell_type": "code",
   "execution_count": null,
   "metadata": {},
   "outputs": [],
   "source": []
  }
 ],
 "metadata": {
  "kernelspec": {
   "display_name": "base",
   "language": "python",
   "name": "base"
  },
  "language_info": {
   "codemirror_mode": {
    "name": "ipython",
    "version": 3
   },
   "file_extension": ".py",
   "mimetype": "text/x-python",
   "name": "python",
   "nbconvert_exporter": "python",
   "pygments_lexer": "ipython3",
   "version": "3.6.8"
  }
 },
 "nbformat": 4,
 "nbformat_minor": 2
}
